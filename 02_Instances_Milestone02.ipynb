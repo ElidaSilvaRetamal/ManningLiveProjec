{
 "cells": [
  {
   "cell_type": "markdown",
   "metadata": {},
   "source": [
    "<h1>Instruction</h1>\n",
    "\n",
    "\t1. This activity builds on the code you wrote for the first milestone, which shows an apparent inconsistency in the \n",
    "    behavior of Python variables.\n",
    "\t\t\n",
    "        - The key in this activity will be to use the id() function to compare the unique ID numbers of all the variables\n",
    "        as you create and change them.\n",
    "\n",
    "\t2. Write code to try to prove whether the container model or the label model best describes the behavior of variables\n",
    "    in Python. Again, using the id() function is key.\n",
    "\n",
    "\t3. State your understanding of how Python variables work in a few sentences.\n",
    "    \n",
    "    4. Variable types: int, float, string, list, tuple and dictionary\n"
   ]
  },
  {
   "cell_type": "markdown",
   "metadata": {},
   "source": [
    "###  My second work"
   ]
  },
  {
   "cell_type": "markdown",
   "metadata": {},
   "source": [
    "## 1 - Integer (int)"
   ]
  },
  {
   "cell_type": "code",
   "execution_count": 4,
   "metadata": {
    "scrolled": true
   },
   "outputs": [
    {
     "name": "stdout",
     "output_type": "stream",
     "text": [
      "25 25\n",
      "140707926573344\n",
      "140707926573344\n",
      "x and y are actually referring to the same object 25 \n",
      "\n",
      "value of x: [10, 20, 30] ID of x: 1653950142792\n",
      "value of x[0]: 10 ID of x: 140707926572864\n",
      "value of x[1]: 20 ID of x: 140707926573184\n",
      "value of x[2]: 30 ID of x: 140707926573504\n",
      "x is referring to the different object \n"
     ]
    }
   ],
   "source": [
    "# Creating the int\n",
    "x = 25  # x is a label and 25 is a object / variables are labels which can be attached to objects in memory.\n",
    "\n",
    "# Creating a second variable int equal to the first\n",
    "y = x  # y is a label and x is a object and so object and label are value.\n",
    "\n",
    "# Printing\n",
    "print(x, y)\n",
    "print(id(x))\n",
    "print(id(y))\n",
    "print( \"x and y are actually referring to the same object 25 \\n\")\n",
    "\n",
    "# Changing the second int variable\n",
    "x = [10, 20, 30]  # here we are building a new object for x\n",
    "\n",
    "print(f'value of x: {x} ID of x: {id(x)}')\n",
    "print(f'value of x[0]: {x[0]} ID of x: {id(x[0])}')\n",
    "print(f'value of x[1]: {x[1]} ID of x: {id(x[1])}')\n",
    "print(f'value of x[2]: {x[2]} ID of x: {id(x[2])}')\n",
    "print(\"x is referring to the different object \")"
   ]
  },
  {
   "cell_type": "markdown",
   "metadata": {},
   "source": [
    " ## 2 - Float "
   ]
  },
  {
   "cell_type": "code",
   "execution_count": 6,
   "metadata": {},
   "outputs": [
    {
     "name": "stdout",
     "output_type": "stream",
     "text": [
      "1653949927664\n",
      "1653949927664\n",
      "value of x: [10.2, 20.3, 30.25] ID of x: 1653950142792\n"
     ]
    }
   ],
   "source": [
    "x = 25.25\n",
    "y = x\n",
    "\n",
    "print(id(x))\n",
    "print(id(y))\n",
    "\n",
    "x = [10.2 , 20.3 , 30.25]\n",
    "print(f'value of x: {x} ID of x: {id(x)}') "
   ]
  },
  {
   "cell_type": "markdown",
   "metadata": {},
   "source": [
    " ## 3 - String "
   ]
  },
  {
   "cell_type": "code",
   "execution_count": 5,
   "metadata": {},
   "outputs": [
    {
     "name": "stdout",
     "output_type": "stream",
     "text": [
      "1653877697144\n",
      "1653877697144\n",
      " value of b: ['Mary', ' Paty', 'Ale'] ID of b: 1653950107208\n"
     ]
    }
   ],
   "source": [
    "a = \"name\"\n",
    "b = a\n",
    "\n",
    "print(id(a))\n",
    "print(id(b))\n",
    "\n",
    "b = [\"Mary\",\" Paty\", \"Ale\"]\n",
    "print(f' value of b: {b} ID of b: {id(b)}')"
   ]
  },
  {
   "cell_type": "markdown",
   "metadata": {},
   "source": [
    "<h1>4 - List</h1>"
   ]
  },
  {
   "cell_type": "code",
   "execution_count": 10,
   "metadata": {},
   "outputs": [
    {
     "name": "stdout",
     "output_type": "stream",
     "text": [
      "1653950141320\n",
      "1653950141320\n",
      "Value of List1: [1, 5.2, 9, 12, 24, 33] ID of List1: 1653950141320\n",
      "Value of List2: [1968, 'car', 'model'] ID of List2: 1653950104392\n",
      "Value of List2[1]: car ID of List2[1]: 1653951023680\n"
     ]
    }
   ],
   "source": [
    "\n",
    "# Creating the List\n",
    "List1 =  [1, 5.2, 9, 12, 24, 33]\n",
    "\n",
    "# Creating a second variable List equal to the first\n",
    "List2 = List1 \n",
    "\n",
    "# Printing\n",
    "print(id(List1))\n",
    "print(id(List2))\n",
    "\n",
    "# Changing the second List variable\n",
    "List2 = [1968,\"car\",\"model\" ]\n",
    "\n",
    "# Printing\n",
    "print(f\"Value of List1: {List1} ID of List1: {id(List1)}\")\n",
    "print(f\"Value of List2: {List2} ID of List2: {id(List2)}\")\n",
    "print(f\"Value of List2[1]: {List2[1]} ID of List2[1]: {id(List2[1])}\")"
   ]
  },
  {
   "cell_type": "markdown",
   "metadata": {},
   "source": [
    "## 5 - Tuple"
   ]
  },
  {
   "cell_type": "code",
   "execution_count": 13,
   "metadata": {},
   "outputs": [
    {
     "name": "stdout",
     "output_type": "stream",
     "text": [
      "1653950826544\n",
      "1653950826544\n",
      "Tuple is immutable variable\n"
     ]
    },
    {
     "ename": "TypeError",
     "evalue": "'tuple' object does not support item assignment",
     "output_type": "error",
     "traceback": [
      "\u001b[1;31m---------------------------------------------------------------------------\u001b[0m",
      "\u001b[1;31mTypeError\u001b[0m                                 Traceback (most recent call last)",
      "\u001b[1;32m<ipython-input-13-9e37bd2c5e07>\u001b[0m in \u001b[0;36m<module>\u001b[1;34m\u001b[0m\n\u001b[0;32m     12\u001b[0m \u001b[1;33m\u001b[0m\u001b[0m\n\u001b[0;32m     13\u001b[0m \u001b[1;31m# 1.3) Changing the second variable\u001b[0m\u001b[1;33m\u001b[0m\u001b[1;33m\u001b[0m\u001b[1;33m\u001b[0m\u001b[0m\n\u001b[1;32m---> 14\u001b[1;33m \u001b[0mtuple2\u001b[0m\u001b[1;33m[\u001b[0m\u001b[1;36m3\u001b[0m\u001b[1;33m]\u001b[0m \u001b[1;33m=\u001b[0m \u001b[1;36m89\u001b[0m\u001b[1;33m\u001b[0m\u001b[1;33m\u001b[0m\u001b[0m\n\u001b[0m",
      "\u001b[1;31mTypeError\u001b[0m: 'tuple' object does not support item assignment"
     ]
    }
   ],
   "source": [
    "# Creating a variable tuple\n",
    "tuple1 = (57, \"birthday\", 1964, \"weight\",[1965, 1964, 1963])\n",
    "\n",
    "# Creating a second variable tuple equal to the first\n",
    "tuple2 = tuple1\n",
    "\n",
    "# printing\n",
    "print(id(tuple1))\n",
    "print(id(tuple2))\n",
    "\n",
    "print ('Tuple is immutable variable')\n",
    "\n",
    "# 1.3) Changing the second variable\n",
    "tuple2[3] = 89"
   ]
  },
  {
   "cell_type": "code",
   "execution_count": 15,
   "metadata": {},
   "outputs": [
    {
     "name": "stdout",
     "output_type": "stream",
     "text": [
      "1653950826544\n",
      "1653950826544\n",
      "Tuple is immutable variable\n",
      "Value of tupl2[1]: name ID of tuple2[1]: 1653877697144\n"
     ]
    }
   ],
   "source": [
    "# Creating a variable tuple\n",
    "tuple1 = (57, \"birthday\", 1964, \"weight\",[1965, 1964, 1963])\n",
    "\n",
    "# Creating a second variable tuple equal to the first\n",
    "tuple2 = tuple1\n",
    "\n",
    "# printing\n",
    "print(id(tuple1))\n",
    "print(id(tuple2))\n",
    "\n",
    "print ('Tuple is immutable variable')\n",
    "\n",
    "# 1.3) Changing the second variable\n",
    "tuple2 = (2.0, \"name\", \"whatever\")\n",
    "print(f\"Value of tupl2[1]: {tuple2[1]} ID of tuple2[1]: {id(tuple2[1])}\")"
   ]
  },
  {
   "cell_type": "markdown",
   "metadata": {},
   "source": [
    "<h1> 6 - Dictionary</h1>"
   ]
  },
  {
   "cell_type": "code",
   "execution_count": 20,
   "metadata": {
    "scrolled": true
   },
   "outputs": [
    {
     "name": "stdout",
     "output_type": "stream",
     "text": [
      "1653951833936\n",
      "1653951833936\n",
      "Value of Dict2[\"key1\"]: new value ID of Dict2[\"key1\"]: 1653951031344\n"
     ]
    }
   ],
   "source": [
    "# Creating the dictionary\n",
    "Dict1 = {\"key1\": 1, \"key2\": \"2\", \"key3\": [3, 3, 3], \"key4\": \"quatro\"}\n",
    "\n",
    "# Creating a second variable dictionay equal to the first\n",
    "Dict2 = Dict1\n",
    "\n",
    "# Printing\n",
    "print(id(Dict1))\n",
    "print(id(Dict2))\n",
    "\n",
    "# Changing the second dictionay variable\n",
    "Dict2[\"key1\"] = \"new value\" # here we are building a new object. Append value with key into dictionary\n",
    "\n",
    "print(f'Value of Dict2[\"key1\"]: {Dict2[\"key1\"]} ID of Dict2[\"key1\"]: {id(Dict2[\"key1\"])}')"
   ]
  },
  {
   "cell_type": "markdown",
   "metadata": {},
   "source": [
    "## Conclusion: \n",
    "Python is a programming language that supports OOP. The variables are labels which can be attached to objects in memory, wherever they are."
   ]
  },
  {
   "cell_type": "code",
   "execution_count": null,
   "metadata": {},
   "outputs": [],
   "source": []
  }
 ],
 "metadata": {
  "kernelspec": {
   "display_name": "Python 3",
   "language": "python",
   "name": "python3"
  },
  "language_info": {
   "codemirror_mode": {
    "name": "ipython",
    "version": 3
   },
   "file_extension": ".py",
   "mimetype": "text/x-python",
   "name": "python",
   "nbconvert_exporter": "python",
   "pygments_lexer": "ipython3",
   "version": "3.7.1"
  }
 },
 "nbformat": 4,
 "nbformat_minor": 4
}
