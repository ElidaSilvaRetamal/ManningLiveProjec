{
 "cells": [
  {
   "cell_type": "markdown",
   "metadata": {},
   "source": [
    "<h1>Instruction</h1>\n",
    "\n",
    "- Write code to discover the extent of the puzzling behavior - creating and modifying pairs of variables with different types in Python.\n",
    "\t\t○ Include types like int, float, string, list, tuple, and dictionary.\n",
    "\t\t○ Create one variable, then create a second variable that is equal to the first.\n",
    "\t\t○ Change one of the two variables and see what happens. If the type allows it try changing both the contents \n",
    "        (an element in a list or dictionary) as well as setting it equal to a new object.\n"
   ]
  },
  {
   "cell_type": "markdown",
   "metadata": {},
   "source": [
    "### My first work"
   ]
  },
  {
   "cell_type": "markdown",
   "metadata": {},
   "source": [
    "<h1>Tuple</h1>"
   ]
  },
  {
   "cell_type": "code",
   "execution_count": 50,
   "metadata": {},
   "outputs": [
    {
     "ename": "TypeError",
     "evalue": "'tuple' object does not support item assignment",
     "output_type": "error",
     "traceback": [
      "\u001b[1;31m---------------------------------------------------------------------------\u001b[0m",
      "\u001b[1;31mTypeError\u001b[0m                                 Traceback (most recent call last)",
      "\u001b[1;32m<ipython-input-50-ba0e091914e9>\u001b[0m in \u001b[0;36m<module>\u001b[1;34m\u001b[0m\n\u001b[0;32m      8\u001b[0m \u001b[1;33m\u001b[0m\u001b[0m\n\u001b[0;32m      9\u001b[0m \u001b[1;31m# 1.3) Changing the second variable\u001b[0m\u001b[1;33m\u001b[0m\u001b[1;33m\u001b[0m\u001b[1;33m\u001b[0m\u001b[0m\n\u001b[1;32m---> 10\u001b[1;33m \u001b[0mtuple2\u001b[0m\u001b[1;33m[\u001b[0m\u001b[1;36m3\u001b[0m\u001b[1;33m]\u001b[0m \u001b[1;33m=\u001b[0m \u001b[1;36m89\u001b[0m\u001b[1;33m\u001b[0m\u001b[1;33m\u001b[0m\u001b[0m\n\u001b[0m\u001b[0;32m     11\u001b[0m \u001b[1;33m\u001b[0m\u001b[0m\n\u001b[0;32m     12\u001b[0m \u001b[1;31m# 1.4) Getting the result\u001b[0m\u001b[1;33m\u001b[0m\u001b[1;33m\u001b[0m\u001b[1;33m\u001b[0m\u001b[0m\n",
      "\u001b[1;31mTypeError\u001b[0m: 'tuple' object does not support item assignment"
     ]
    }
   ],
   "source": [
    "# 1) Using Tuples\n",
    "\n",
    "# 1.1) Creating a variable tuple\n",
    "tuple1 = (57, \"birthday\", 1964, \"year\", \"weight\", 69.8,[1965, 1964, 1963])\n",
    "\n",
    "# 1.2) Creating a second variable tuple equal to the first\n",
    "tuple2 = tuple1\n",
    "\n",
    "# 1.3) Changing the second variable\n",
    "tuple2[3] = 89\n",
    "\n",
    "# 1.4) Getting the result\n",
    "print(f\"The value of tuple1 is {tuple1} and the value of tuple2 is {tuple2}\")"
   ]
  },
  {
   "cell_type": "markdown",
   "metadata": {},
   "source": [
    "<h3>As we can see in the error message above, tuple does not support item assignment.</h3>"
   ]
  },
  {
   "cell_type": "code",
   "execution_count": 98,
   "metadata": {},
   "outputs": [
    {
     "name": "stdout",
     "output_type": "stream",
     "text": [
      " The value of tuple1 is (57, 'birthday', 1964, 'year', 'weight', 69.8, [1965, 1964, 1963]) \n",
      " The value of tuple2 is [63.2, 'testing'] \n",
      " The value of tuple2[1] is testing \n"
     ]
    }
   ],
   "source": [
    "# 2) Using Tuples\n",
    "\n",
    "# 2.1) Creating a variable tuple\n",
    "tuple1 = (57, \"birthday\", 1964, \"year\", \"weight\", 69.8,[1965, 1964, 1963])\n",
    "\n",
    "# 2.2) Creating a second variable tuple equal to the first\n",
    "tuple2 = tuple1\n",
    "\n",
    "# 2.3) Changing the second variable\n",
    "tuple2 = [63.2, \"testing\"]  \n",
    "\n",
    "# 2.4) Getting the result\n",
    "\n",
    "print(f\" The value of tuple1 is {tuple1} \\n The value of tuple2 is {tuple2} \\n The value of tuple2[1] is {tuple2[1]} \")"
   ]
  },
  {
   "cell_type": "markdown",
   "metadata": {},
   "source": [
    "<h3>As we can see above, the tuple is immutable</h3>"
   ]
  },
  {
   "cell_type": "markdown",
   "metadata": {},
   "source": [
    "<h1>Dictionary</h1>"
   ]
  },
  {
   "cell_type": "code",
   "execution_count": 76,
   "metadata": {},
   "outputs": [
    {
     "name": "stdout",
     "output_type": "stream",
     "text": [
      " The value of Dict1 is {'key1': 1, 'key2': '2', 'key3': [3, 3, 3], 'key4': (4, 4, 4), 'key5': 5, (0, 1): 6, 3: {'notkey': [14, 20, 99]}} \n",
      " The value of Dict2 is {'key1': 1, 'key2': '2', 'key3': [3, 3, 3], 'key4': (4, 4, 4), 'key5': 5, (0, 1): 6, 3: {'notkey': [14, 20, 99]}} \n",
      " The value of Dict2[3] is {'notkey': [14, 20, 99]}\n"
     ]
    }
   ],
   "source": [
    "# 3) Using Dictionary\n",
    "\n",
    "# 3.1) Creating the dictionary\n",
    "Dict1 = {\"key1\": 1, \"key2\": \"2\", \"key3\": [3, 3, 3], \"key4\": (4, 4, 4), ('key5'): 5, (0, 1): 6}\n",
    "\n",
    "# 3.2) Creating a second variable dictionay equal to the first\n",
    "Dict2 = Dict1\n",
    "\n",
    "# 3.3) Changing the second dictionay variable\n",
    "Dict2[3] = {\"key\":[14,20,99]} # it needs curly bracket\n",
    "\n",
    "# 3.4) Getting the result\n",
    "print(f\" The value of Dict1 is {Dict1} \\n The value of Dict2 is {Dict2} \\n The value of Dict2[3] is {Dict2[3]}\")"
   ]
  },
  {
   "cell_type": "markdown",
   "metadata": {},
   "source": [
    "<h5>As we can see above, both Dict1 and Dict2 are pointing to the same object, hence changes to the object will be perceived by any of the variables.</h5>"
   ]
  },
  {
   "cell_type": "code",
   "execution_count": 77,
   "metadata": {},
   "outputs": [
    {
     "name": "stdout",
     "output_type": "stream",
     "text": [
      " The value of Dict1 is {'key1': 1, 'key2': '2', 'key3': [3, 3, 3], 'key4': (4, 4, 4), 'key5': 5, (0, 1): 6} \n",
      " The value of Dict2 is {'notkey': [14, 20, 99]}\n"
     ]
    }
   ],
   "source": [
    "# 4) Using Dictionary\n",
    "\n",
    "# 4.1) Creating the dictionary\n",
    "Dict1 = {\"key1\": 1, \"key2\": \"2\", \"key3\": [3, 3, 3], \"key4\": (4, 4, 4), ('key5'): 5, (0, 1): 6}\n",
    "\n",
    "# 4.2) Creating a second variable dictionay equal to the first\n",
    "Dict2 = Dict1\n",
    "\n",
    "# 4.3) Changing the second dictionay variable\n",
    "Dict2= {\"notkey\":[14,20,99]}\n",
    "\n",
    "# 4.4) Getting the result\n",
    "print(f\" The value of Dict1 is {Dict1} \\n The value of Dict2 is {Dict2}\")"
   ]
  },
  {
   "cell_type": "markdown",
   "metadata": {},
   "source": [
    "<h5>As we can see above, Dict2 was pointing to the same object as Dict1, but the second assignment to Dict2 created a new reference (pointer) to another object, so from now on, Dict1 and Dict2 are referencing (pointing) to different objects.</h5>"
   ]
  },
  {
   "cell_type": "markdown",
   "metadata": {},
   "source": [
    "<h1>LIST</h1>"
   ]
  },
  {
   "cell_type": "code",
   "execution_count": 86,
   "metadata": {},
   "outputs": [
    {
     "name": "stdout",
     "output_type": "stream",
     "text": [
      " The value of List1 is [1, 5.2, 9, 12, (38, 45), 33] \n",
      " The value of List2 is (38, 45)\n"
     ]
    }
   ],
   "source": [
    " # 5) Using list\n",
    "\n",
    "# 5.1) Creating the dictionary\n",
    "List1 = [1, 5.2, 9, 12, 24, 33]\n",
    "\n",
    "# 5.2) Creating a second variable List equal to the first\n",
    "List2 = List1\n",
    "\n",
    "# 5.3) Changing the second dictionay variable\n",
    "List2[4]= 38, 45\n",
    "\n",
    "# 5.4) Getting the result\n",
    "print(f\" The value of List1 is {List1} \\n The value of List2 is {List2[4]}\")"
   ]
  },
  {
   "cell_type": "code",
   "execution_count": 97,
   "metadata": {},
   "outputs": [
    {
     "name": "stdout",
     "output_type": "stream",
     "text": [
      " The value of List1 is [1, 5.2, 9, 12, 24, 33]  \n",
      " The value of List2 is (38, 52) \n",
      " The value of List2[1] is 52\n"
     ]
    }
   ],
   "source": [
    " # 6) Using list\n",
    "\n",
    "# 6.1) Creating the List\n",
    "List1 = [1, 5.2, 9, 12, 24, 33]\n",
    "\n",
    "# 6.2) Creating a second variable List equal to the first\n",
    "List2 = List1 \n",
    "\n",
    "# 6.3) Changing the second List variable\n",
    "List2 = 38,52\n",
    "\n",
    "# 6.4) Getting the result\n",
    "print(f\" The value of List1 is {List1}  \\n The value of List2 is {List2} \\n The value of List2[1] is {List2[1]}\")"
   ]
  },
  {
   "cell_type": "code",
   "execution_count": 100,
   "metadata": {},
   "outputs": [
    {
     "name": "stdout",
     "output_type": "stream",
     "text": [
      " The value of List1 is [1, 5.2, 9, 12, 24, 33]  \n",
      " The value of List2 is (38, 52) \n",
      " The value of List2[1] is 52\n"
     ]
    }
   ],
   "source": [
    " # 6) Using list\n",
    "\n",
    "# 6.1) Creating the list\n",
    "List1 = [1, 5.2, 9, 12, 24, 33]\n",
    "\n",
    "# 6.2) Creating a second variable List equal to the first\n",
    "List2 = List1\n",
    "\n",
    "# 6.3) Changing the second List variable\n",
    "List2 = 38,52\n",
    "\n",
    "# 6.4) Getting the result\n",
    "print(f\" The value of List1 is {List1}  \\n The value of List2 is {List2} \\n The value of List2[1] is {List2[1]}\")"
   ]
  },
  {
   "cell_type": "code",
   "execution_count": 90,
   "metadata": {},
   "outputs": [
    {
     "name": "stdout",
     "output_type": "stream",
     "text": [
      " The value of List1 is ['a', 'b', 'c', ('k', 'A'), 'f'] \n",
      " The value of List2 is ['a', 'b', 'c', ('k', 'A'), 'f'] \n",
      " The value of List2[3] is ('k', 'A')\n"
     ]
    }
   ],
   "source": [
    "# 7) Using list\n",
    "\n",
    "# 7.1) Creating the List\n",
    "List1 = [\"a\", \"b\", \"c\", \"d\", \"f\"]\n",
    "\n",
    "# 7.2) Creating a second variable List equal to the first\n",
    "List2 = List1\n",
    "\n",
    "# 7.3) Changing the second List variable\n",
    "List2[3] = \"k\",\"A\"\n",
    "\n",
    "# 7.4) Getting the result\n",
    "print(f\" The value of List1 is {List1} \\n The value of List2 is {List2} \\n The value of List2[3] is {List2[3]}\" )"
   ]
  }
 ],
 "metadata": {
  "kernelspec": {
   "display_name": "Python 3",
   "language": "python",
   "name": "python3"
  },
  "language_info": {
   "codemirror_mode": {
    "name": "ipython",
    "version": 3
   },
   "file_extension": ".py",
   "mimetype": "text/x-python",
   "name": "python",
   "nbconvert_exporter": "python",
   "pygments_lexer": "ipython3",
   "version": "3.7.1"
  }
 },
 "nbformat": 4,
 "nbformat_minor": 4
}
